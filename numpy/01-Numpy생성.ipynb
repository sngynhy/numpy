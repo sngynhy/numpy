{
 "cells": [
  {
   "cell_type": "markdown",
   "metadata": {
    "slideshow": {
     "slide_type": "slide"
    }
   },
   "source": [
    "## 넘파이에서 데이터 구조\n",
    "- Tensor(텐서)\n",
    "    - 데이터(값)들을 모아 놓는 틀(컨테이너)\n",
    "- 스칼라 (Scalar) – 0D tensor\n",
    "    - 하나의 값만 담고 있는 tensor\n",
    "- 벡터 (Vector) – 1D tensor\n",
    "    - 하나의 축(방향)으로 값들을 모아 놓은 tensor\n",
    "    - 1차원 배열\n",
    "- 행렬 (Matrix) – 2D tensor\n",
    "    - 두 개의 축(axis)으로 값들을 모아 놓은 tensor\n",
    "    - 행과 열로 구성된 2차원 배열\n",
    "- 텐서 (Tensor) – ND tensor\n",
    "    - 세 개 이상의 축(axis)으로 값을 모아 놓은 tensor\n",
    "    - 다차원 배열"
   ]
  },
  {
   "cell_type": "markdown",
   "metadata": {
    "slideshow": {
     "slide_type": "subslide"
    }
   },
   "source": [
    "![array_shape](img/array_shape.png)\n",
    "\n",
    "[출처: https://www.oreilly.com/library/view/elegant-scipy/9781491922927/ch01.html ]"
   ]
  },
  {
   "cell_type": "markdown",
   "metadata": {},
   "source": [
    "### 용어\n",
    "- 축 (axis) \n",
    "    - 값들의 방향. \n",
    "- 랭크(rank) \n",
    "    - 축의 개수. \n",
    "- 형태/형상(shape)\n",
    "    - 각 축(axis) 별 데이터의 개수\n",
    "- 크기(size) \n",
    "    - 배열내 원소의 총 개수"
   ]
  },
  {
   "cell_type": "markdown",
   "metadata": {
    "slideshow": {
     "slide_type": "slide"
    }
   },
   "source": [
    "# 넘파이 배열(ndarray)"
   ]
  },
  {
   "cell_type": "markdown",
   "metadata": {
    "slideshow": {
     "slide_type": "fragment"
    }
   },
   "source": [
    "- Numpy에서 제공하는 N 차원 배열 객체\n",
    "- 같은 타입의 값들만 가질 수 있다.\n",
    "- 빠르고 메모리를 효율 적으로 사용하며 벡터 연산과 브로드캐스팅 기능을 제공한다. "
   ]
  },
  {
   "cell_type": "markdown",
   "metadata": {},
   "source": [
    "## 배열 생성 함수\n",
    "### array(배열형태 객체 [, dtype])\n",
    "- 배열형태 객체가 가진 원소들로 구성된 numpy 배열 생성\n",
    "> - 배열형태 객체  (array-like)  \n",
    ">     - 리스트, 튜플, 넘파이배열(ndarray), Series"
   ]
  },
  {
   "cell_type": "code",
   "execution_count": 1,
   "metadata": {},
   "outputs": [
    {
     "name": "stdout",
     "output_type": "stream",
     "text": [
      "Requirement already satisfied: numpy in c:\\users\\playdata\\anaconda3\\lib\\site-packages (1.16.4)\n",
      "Note: you may need to restart the kernel to use updated packages.\n"
     ]
    }
   ],
   "source": [
    "pip install numpy"
   ]
  },
  {
   "cell_type": "code",
   "execution_count": 2,
   "metadata": {
    "slideshow": {
     "slide_type": "skip"
    }
   },
   "outputs": [],
   "source": [
    "import numpy as np"
   ]
  },
  {
   "cell_type": "code",
   "execution_count": 6,
   "metadata": {},
   "outputs": [
    {
     "data": {
      "text/plain": [
       "(5,)"
      ]
     },
     "execution_count": 6,
     "metadata": {},
     "output_type": "execute_result"
    }
   ],
   "source": [
    "arr1=np.array([1,2,3,4,5])\n",
    "arr1.shape"
   ]
  },
  {
   "cell_type": "code",
   "execution_count": 5,
   "metadata": {},
   "outputs": [
    {
     "name": "stdout",
     "output_type": "stream",
     "text": [
      "[1 2 3 4 5]\n"
     ]
    },
    {
     "data": {
      "text/plain": [
       "array([1, 2, 3, 4, 5])"
      ]
     },
     "execution_count": 5,
     "metadata": {},
     "output_type": "execute_result"
    }
   ],
   "source": [
    "print(arr1) # 리스트 형태로 반환되지만 리스트는 아님\n",
    "arr1"
   ]
  },
  {
   "cell_type": "code",
   "execution_count": 6,
   "metadata": {},
   "outputs": [
    {
     "data": {
      "text/plain": [
       "numpy.ndarray"
      ]
     },
     "execution_count": 6,
     "metadata": {},
     "output_type": "execute_result"
    }
   ],
   "source": [
    "type(arr1)"
   ]
  },
  {
   "cell_type": "code",
   "execution_count": 7,
   "metadata": {},
   "outputs": [
    {
     "data": {
      "text/plain": [
       "(2, 4)"
      ]
     },
     "execution_count": 7,
     "metadata": {},
     "output_type": "execute_result"
    }
   ],
   "source": [
    "l1=[1,1,1,1]\n",
    "l2=[2,2,2,2]\n",
    "l=[l1,l2]\n",
    "arr2=np.array(l)\n",
    "arr2.shape"
   ]
  },
  {
   "cell_type": "code",
   "execution_count": 8,
   "metadata": {},
   "outputs": [
    {
     "data": {
      "text/plain": [
       "array([[1, 1, 1, 1],\n",
       "       [2, 2, 2, 2]])"
      ]
     },
     "execution_count": 8,
     "metadata": {},
     "output_type": "execute_result"
    }
   ],
   "source": [
    "arr2"
   ]
  },
  {
   "cell_type": "code",
   "execution_count": 8,
   "metadata": {},
   "outputs": [
    {
     "data": {
      "text/plain": [
       "[[3, 3, 3, 3], [4, 4, 4, 4]]"
      ]
     },
     "execution_count": 8,
     "metadata": {},
     "output_type": "execute_result"
    }
   ],
   "source": [
    "l3=[3,3,3,3]\n",
    "l4=[4,4,4,4]\n",
    "ll=[l3,l4]\n",
    "ll"
   ]
  },
  {
   "cell_type": "code",
   "execution_count": 9,
   "metadata": {},
   "outputs": [
    {
     "data": {
      "text/plain": [
       "(2, 2, 4)"
      ]
     },
     "execution_count": 9,
     "metadata": {},
     "output_type": "execute_result"
    }
   ],
   "source": [
    "arr3=np.array([l,ll])\n",
    "arr3.shape"
   ]
  },
  {
   "cell_type": "code",
   "execution_count": 10,
   "metadata": {},
   "outputs": [
    {
     "data": {
      "text/plain": [
       "array([[[1, 1, 1, 1],\n",
       "        [2, 2, 2, 2]],\n",
       "\n",
       "       [[3, 3, 3, 3],\n",
       "        [4, 4, 4, 4]]])"
      ]
     },
     "execution_count": 10,
     "metadata": {},
     "output_type": "execute_result"
    }
   ],
   "source": [
    "arr3"
   ]
  },
  {
   "cell_type": "code",
   "execution_count": 12,
   "metadata": {},
   "outputs": [
    {
     "data": {
      "text/plain": [
       "array(['1', '2.5', '3', 'A'], dtype='<U32')"
      ]
     },
     "execution_count": 12,
     "metadata": {},
     "output_type": "execute_result"
    }
   ],
   "source": [
    "# 문자열 <- 실수 <- 정수 <- 논리(T:1, F:0)\n",
    "np.array([1, 2.5, 3, 'A'])"
   ]
  },
  {
   "cell_type": "code",
   "execution_count": 54,
   "metadata": {},
   "outputs": [
    {
     "data": {
      "text/plain": [
       "(3, 4)"
      ]
     },
     "execution_count": 54,
     "metadata": {},
     "output_type": "execute_result"
    }
   ],
   "source": [
    "arr=np.array([[1,2,3,4],[2,3,4,5],[3,4,5,6]])\n",
    "arr.shape"
   ]
  },
  {
   "cell_type": "code",
   "execution_count": null,
   "metadata": {},
   "outputs": [],
   "source": []
  },
  {
   "cell_type": "markdown",
   "metadata": {
    "slideshow": {
     "slide_type": "slide"
    }
   },
   "source": [
    "## 데이터 타입\n",
    "- 원소들의 데이터 타입\n",
    "- ndarray 는 같은 타입의 데이터만 모아서 관리한다.\n",
    "- 배열 생성시 dtype 속성을 이용해 데이터 타입 설정 가능\n",
    "- ndarray.dtype 속성을 이용해 조회\n",
    "- ndarray.astype(데이터타입)\n",
    "    - 데이터타입 변환하는 메소드\n",
    "    - 변환한 새로운 ndarray객체를 반환"
   ]
  },
  {
   "cell_type": "markdown",
   "metadata": {
    "slideshow": {
     "slide_type": "subslide"
    }
   },
   "source": [
    "![image.png](img/numpy_datatype.png)"
   ]
  },
  {
   "cell_type": "code",
   "execution_count": 13,
   "metadata": {},
   "outputs": [
    {
     "data": {
      "text/plain": [
       "dtype('int32')"
      ]
     },
     "execution_count": 13,
     "metadata": {},
     "output_type": "execute_result"
    }
   ],
   "source": [
    "import numpy as np\n",
    "arr=np.array([1,2,3])\n",
    "# 데이터 타입 확인\n",
    "arr.dtype"
   ]
  },
  {
   "cell_type": "code",
   "execution_count": 20,
   "metadata": {},
   "outputs": [
    {
     "data": {
      "text/plain": [
       "dtype('float64')"
      ]
     },
     "execution_count": 20,
     "metadata": {},
     "output_type": "execute_result"
    }
   ],
   "source": [
    "arr2=np.array([1.5,2.5,3.5])\n",
    "arr2.dtype"
   ]
  },
  {
   "cell_type": "code",
   "execution_count": 24,
   "metadata": {},
   "outputs": [],
   "source": [
    "# 배열의 type을 변환. astype(): 원본을 바꾸지 않는다.\n",
    "# int32 -> int8\n",
    "arr1=arr.astype('int8')"
   ]
  },
  {
   "cell_type": "code",
   "execution_count": 25,
   "metadata": {},
   "outputs": [
    {
     "data": {
      "text/plain": [
       "(dtype('int32'), dtype('int8'))"
      ]
     },
     "execution_count": 25,
     "metadata": {},
     "output_type": "execute_result"
    }
   ],
   "source": [
    "arr.dtype, arr1.dtype"
   ]
  },
  {
   "cell_type": "code",
   "execution_count": 26,
   "metadata": {},
   "outputs": [
    {
     "data": {
      "text/plain": [
       "dtype('float64')"
      ]
     },
     "execution_count": 26,
     "metadata": {},
     "output_type": "execute_result"
    }
   ],
   "source": [
    "arr3=np.array([10,20,30], dtype='float64') # 타입 설정\n",
    "arr3.dtype"
   ]
  },
  {
   "cell_type": "code",
   "execution_count": 27,
   "metadata": {},
   "outputs": [
    {
     "data": {
      "text/plain": [
       "array([10., 20., 30.])"
      ]
     },
     "execution_count": 27,
     "metadata": {},
     "output_type": "execute_result"
    }
   ],
   "source": [
    "arr3"
   ]
  },
  {
   "cell_type": "code",
   "execution_count": 29,
   "metadata": {},
   "outputs": [
    {
     "name": "stdout",
     "output_type": "stream",
     "text": [
      "0.5 0.5\n",
      "10.0 10.0\n"
     ]
    }
   ],
   "source": [
    "print(0.5, .5)\n",
    "print(10.0, 10.)"
   ]
  },
  {
   "cell_type": "code",
   "execution_count": 28,
   "metadata": {},
   "outputs": [
    {
     "data": {
      "text/plain": [
       "array([2, 3])"
      ]
     },
     "execution_count": 28,
     "metadata": {},
     "output_type": "execute_result"
    }
   ],
   "source": [
    "np.array([2.5, 3.3], dtype='int')"
   ]
  },
  {
   "cell_type": "code",
   "execution_count": 31,
   "metadata": {},
   "outputs": [
    {
     "data": {
      "text/plain": [
       "dtype('int32')"
      ]
     },
     "execution_count": 31,
     "metadata": {},
     "output_type": "execute_result"
    }
   ],
   "source": [
    "arr.astype(np.int32).dtype"
   ]
  },
  {
   "cell_type": "markdown",
   "metadata": {
    "slideshow": {
     "slide_type": "subslide"
    }
   },
   "source": [
    "### zeros(shape, dtype)\n",
    "원소들을 0으로 채운 배열 생성\n",
    "- shape : 형태(크기, 개수) 지정\n",
    "- dtype : 요소의 개수 지정"
   ]
  },
  {
   "cell_type": "code",
   "execution_count": 20,
   "metadata": {
    "slideshow": {
     "slide_type": "skip"
    }
   },
   "outputs": [
    {
     "data": {
      "text/plain": [
       "(array([0., 0., 0., 0.]), array([[0., 0., 0., 0.]]), array([[0., 0., 0., 0.],\n",
       "        [0., 0., 0., 0.]]))"
      ]
     },
     "execution_count": 20,
     "metadata": {},
     "output_type": "execute_result"
    }
   ],
   "source": [
    "z1=np.zeros((4))\n",
    "z2=np.zeros((1,4))\n",
    "z3=np.zeros((2,4))\n",
    "z1,z2,z3"
   ]
  },
  {
   "cell_type": "code",
   "execution_count": 23,
   "metadata": {},
   "outputs": [
    {
     "name": "stdout",
     "output_type": "stream",
     "text": [
      "(2, 4, 5)\n"
     ]
    },
    {
     "data": {
      "text/plain": [
       "array([[[0., 0., 0., 0., 0.],\n",
       "        [0., 0., 0., 0., 0.],\n",
       "        [0., 0., 0., 0., 0.],\n",
       "        [0., 0., 0., 0., 0.]],\n",
       "\n",
       "       [[0., 0., 0., 0., 0.],\n",
       "        [0., 0., 0., 0., 0.],\n",
       "        [0., 0., 0., 0., 0.],\n",
       "        [0., 0., 0., 0., 0.]]])"
      ]
     },
     "execution_count": 23,
     "metadata": {},
     "output_type": "execute_result"
    }
   ],
   "source": [
    "z3=np.zeros((2,4,5))\n",
    "print(z3.shape)\n",
    "z3"
   ]
  },
  {
   "cell_type": "markdown",
   "metadata": {
    "slideshow": {
     "slide_type": "subslide"
    }
   },
   "source": [
    "### ones(shape, dtype)\n",
    "원소들을 1로 채운 배열 생성\n",
    "- shape : 형태(크기, 개수) 지정\n",
    "- dtype : 요소의 개수 지정"
   ]
  },
  {
   "cell_type": "code",
   "execution_count": 42,
   "metadata": {
    "slideshow": {
     "slide_type": "skip"
    }
   },
   "outputs": [
    {
     "data": {
      "text/plain": [
       "(4,)"
      ]
     },
     "execution_count": 42,
     "metadata": {},
     "output_type": "execute_result"
    }
   ],
   "source": [
    "o1=np.ones((4))\n",
    "o1.shape"
   ]
  },
  {
   "cell_type": "code",
   "execution_count": 43,
   "metadata": {},
   "outputs": [
    {
     "data": {
      "text/plain": [
       "array([1., 1., 1., 1.])"
      ]
     },
     "execution_count": 43,
     "metadata": {},
     "output_type": "execute_result"
    }
   ],
   "source": [
    "o1"
   ]
  },
  {
   "cell_type": "code",
   "execution_count": 44,
   "metadata": {},
   "outputs": [
    {
     "data": {
      "text/plain": [
       "array([[1., 1., 1., 1., 1.],\n",
       "       [1., 1., 1., 1., 1.]])"
      ]
     },
     "execution_count": 44,
     "metadata": {},
     "output_type": "execute_result"
    }
   ],
   "source": [
    "o2=np.ones((2,5))\n",
    "o2"
   ]
  },
  {
   "cell_type": "markdown",
   "metadata": {
    "slideshow": {
     "slide_type": "subslide"
    }
   },
   "source": [
    "### full(shape, fill_value, dtype))\n",
    "원소들을 원하는 값으로 채운 배열 생성\n",
    "- shape : 형태(크기, 개수) 지정\n",
    "- fill_vlaue : 채울 값\n",
    "- dtype : 요소의 개수 지정"
   ]
  },
  {
   "cell_type": "code",
   "execution_count": 26,
   "metadata": {
    "slideshow": {
     "slide_type": "skip"
    }
   },
   "outputs": [
    {
     "data": {
      "text/plain": [
       "array([[10, 10, 10],\n",
       "       [10, 10, 10]])"
      ]
     },
     "execution_count": 26,
     "metadata": {},
     "output_type": "execute_result"
    }
   ],
   "source": [
    "f1=np.full((2,3),10)  # shape: (2,3), fill_value: 10\n",
    "f1"
   ]
  },
  {
   "cell_type": "code",
   "execution_count": 37,
   "metadata": {
    "slideshow": {
     "slide_type": "skip"
    }
   },
   "outputs": [
    {
     "data": {
      "text/plain": [
       "array([['가자', '가자'],\n",
       "       ['가자', '가자'],\n",
       "       ['가자', '가자']], dtype='<U2')"
      ]
     },
     "execution_count": 37,
     "metadata": {},
     "output_type": "execute_result"
    }
   ],
   "source": [
    "f2=np.full(shape=(3,2),fill_value='가자')\n",
    "f2"
   ]
  },
  {
   "cell_type": "code",
   "execution_count": 39,
   "metadata": {},
   "outputs": [
    {
     "data": {
      "text/plain": [
       "array([[['오예!', '오예!', '오예!', '오예!'],\n",
       "        ['오예!', '오예!', '오예!', '오예!']],\n",
       "\n",
       "       [['오예!', '오예!', '오예!', '오예!'],\n",
       "        ['오예!', '오예!', '오예!', '오예!']],\n",
       "\n",
       "       [['오예!', '오예!', '오예!', '오예!'],\n",
       "        ['오예!', '오예!', '오예!', '오예!']]], dtype='<U3')"
      ]
     },
     "execution_count": 39,
     "metadata": {},
     "output_type": "execute_result"
    }
   ],
   "source": [
    "f3=np.full((3,2,4),'오예!')\n",
    "f3"
   ]
  },
  {
   "cell_type": "markdown",
   "metadata": {
    "slideshow": {
     "slide_type": "subslide"
    }
   },
   "source": [
    "### arange(start, stop, step, dtype)\n",
    "start에서 stop 범위에서 step의 일정한 간격의 값들로 구성된 배열 리턴 [API](https://docs.scipy.org/doc/numpy-1.15.0/reference/generated/numpy.arange.html)\n",
    "- start : 범위의 시작값으로 포함된다.(생략가능 - 기본값:0)\n",
    "- stop : 범위의 끝값으로 **포함되지 않는다.** (필수)\n",
    "- step : 간격 (생략가능 - 기본값 1)\n",
    "- dtype : 요소의 타입"
   ]
  },
  {
   "cell_type": "code",
   "execution_count": 45,
   "metadata": {
    "slideshow": {
     "slide_type": "skip"
    }
   },
   "outputs": [
    {
     "name": "stdout",
     "output_type": "stream",
     "text": [
      "(5,)\n"
     ]
    },
    {
     "data": {
      "text/plain": [
       "array([1, 3, 5, 7, 9])"
      ]
     },
     "execution_count": 45,
     "metadata": {},
     "output_type": "execute_result"
    }
   ],
   "source": [
    "arr=np.arange(1,10,2) # 1부터 10까지 2씩 증가\n",
    "print(arr.shape)\n",
    "arr"
   ]
  },
  {
   "cell_type": "code",
   "execution_count": 49,
   "metadata": {
    "scrolled": true,
    "slideshow": {
     "slide_type": "skip"
    }
   },
   "outputs": [
    {
     "data": {
      "text/plain": [
       "array([10, 15, 20, 25, 30, 35, 40, 45, 50, 55, 60, 65, 70, 75, 80, 85, 90,\n",
       "       95])"
      ]
     },
     "execution_count": 49,
     "metadata": {},
     "output_type": "execute_result"
    }
   ],
   "source": [
    "np.arange(10,100,5)  # 끝값은 반환 안함"
   ]
  },
  {
   "cell_type": "code",
   "execution_count": 48,
   "metadata": {},
   "outputs": [
    {
     "data": {
      "text/plain": [
       "array([0, 1, 2, 3, 4, 5, 6, 7, 8, 9])"
      ]
     },
     "execution_count": 48,
     "metadata": {},
     "output_type": "execute_result"
    }
   ],
   "source": [
    "np.arange(10)  # stop=10, start=0, step=1"
   ]
  },
  {
   "cell_type": "code",
   "execution_count": 51,
   "metadata": {},
   "outputs": [
    {
     "data": {
      "text/plain": [
       "array([-1. , -0.5,  0. ,  0.5])"
      ]
     },
     "execution_count": 51,
     "metadata": {},
     "output_type": "execute_result"
    }
   ],
   "source": [
    "np.arange(-1,1,0.5)"
   ]
  },
  {
   "cell_type": "code",
   "execution_count": 57,
   "metadata": {},
   "outputs": [
    {
     "data": {
      "text/plain": [
       "array([0. , 0.1, 0.2, 0.3, 0.4, 0.5, 0.6, 0.7, 0.8, 0.9])"
      ]
     },
     "execution_count": 57,
     "metadata": {},
     "output_type": "execute_result"
    }
   ],
   "source": [
    "arr1=np.arange(0,1,0.1)\n",
    "arr1"
   ]
  },
  {
   "cell_type": "code",
   "execution_count": 59,
   "metadata": {},
   "outputs": [
    {
     "data": {
      "text/plain": [
       "array([-20, -15, -10,  -5,   0,   5,  10,  15])"
      ]
     },
     "execution_count": 59,
     "metadata": {},
     "output_type": "execute_result"
    }
   ],
   "source": [
    "arr2=np.arange(-20,20,5)\n",
    "arr2"
   ]
  },
  {
   "cell_type": "code",
   "execution_count": 63,
   "metadata": {},
   "outputs": [
    {
     "data": {
      "text/plain": [
       "array([-10,  -5,   0,   5,  10,  15,  20,  25])"
      ]
     },
     "execution_count": 63,
     "metadata": {},
     "output_type": "execute_result"
    }
   ],
   "source": [
    "arr3=np.arange(-10,30,5)\n",
    "arr3"
   ]
  },
  {
   "cell_type": "code",
   "execution_count": 64,
   "metadata": {},
   "outputs": [
    {
     "data": {
      "text/plain": [
       "array([-30, -20, -10,   0,  10,  20,  30,  40])"
      ]
     },
     "execution_count": 64,
     "metadata": {},
     "output_type": "execute_result"
    }
   ],
   "source": [
    "arr3+arr2"
   ]
  },
  {
   "cell_type": "markdown",
   "metadata": {
    "slideshow": {
     "slide_type": "subslide"
    }
   },
   "source": [
    "### linspace(start, stop, num=50, endpoint=True, retstep=False, dtype=None)\n",
    "\n",
    "시작과 끝을 균등하게 나눈 값들을 가지는 배열을 생성 [API](https://docs.scipy.org/doc/numpy-1.15.0/reference/generated/numpy.linspace.html#numpy.linspace)\n",
    "\n",
    "- start : 시작값\n",
    "- stop : 종료값\n",
    "- num : 나눌 개수. 기본-50, 양수 여야한다.\n",
    "- endpoint : stop을 포함시킬 것인지 여부. 기본 True\n",
    "- retstep : 생성된 배열 샘플과 함께 간격(step)도 리턴할지 여부. True일경우 간격도 리턴(sample, step) => 튜플로 받는다.\n",
    "- dtype : 데이터 타입"
   ]
  },
  {
   "cell_type": "code",
   "execution_count": 54,
   "metadata": {
    "slideshow": {
     "slide_type": "skip"
    }
   },
   "outputs": [
    {
     "data": {
      "text/plain": [
       "array([  1.  ,  25.75,  50.5 ,  75.25, 100.  ])"
      ]
     },
     "execution_count": 54,
     "metadata": {},
     "output_type": "execute_result"
    }
   ],
   "source": [
    "np.linspace(1,100,5) # 1 ~ 100사이의 수를 다섯구간으로 나눔"
   ]
  },
  {
   "cell_type": "code",
   "execution_count": 65,
   "metadata": {
    "scrolled": true,
    "slideshow": {
     "slide_type": "skip"
    }
   },
   "outputs": [
    {
     "data": {
      "text/plain": [
       "array([ 1. , 20.8, 40.6, 60.4, 80.2])"
      ]
     },
     "execution_count": 65,
     "metadata": {},
     "output_type": "execute_result"
    }
   ],
   "source": [
    "np.linspace(1,100,5,endpoint=False)  # 끝값 포함안함"
   ]
  },
  {
   "cell_type": "code",
   "execution_count": 66,
   "metadata": {},
   "outputs": [
    {
     "data": {
      "text/plain": [
       "(array([ 1. , 20.8, 40.6, 60.4, 80.2]), 19.8)"
      ]
     },
     "execution_count": 66,
     "metadata": {},
     "output_type": "execute_result"
    }
   ],
   "source": [
    "np.linspace(1,100,5,endpoint=False,retstep=True)  # retstep:간격 반환"
   ]
  },
  {
   "cell_type": "code",
   "execution_count": null,
   "metadata": {},
   "outputs": [],
   "source": []
  },
  {
   "cell_type": "markdown",
   "metadata": {
    "slideshow": {
     "slide_type": "subslide"
    }
   },
   "source": [
    "### eye(N, M=None, k=0, dtype=<class 'float'>, order='C')\n",
    "\n",
    "단위 행렬 생성 [API](https://docs.scipy.org/doc/numpy-1.15.1/reference/generated/numpy.eye.html) \n",
    "- N : 행수\n",
    "- M : 컬럼수\n",
    "- k : 대각선이 시작할 index (첫행의 index를 지정한다. ) 기본값 : 0\n",
    "- order : C - 행기반(C스타일), F - 컬럼기반(포트란스타일)\n",
    "> **단위행렬**   \n",
    "> 단위행렬은 좌상단에서 우하단으로 이어지는 대각선이 1이고 나머지는 0으로 채워진 정방 행렬    \n",
    "> [위키 설명](https://ko.wikipedia.org/wiki/%EB%8B%A8%EC%9C%84%ED%96%89%EB%A0%AC)"
   ]
  },
  {
   "cell_type": "code",
   "execution_count": 55,
   "metadata": {
    "slideshow": {
     "slide_type": "skip"
    }
   },
   "outputs": [
    {
     "data": {
      "text/plain": [
       "array([[1., 0., 0.],\n",
       "       [0., 1., 0.],\n",
       "       [0., 0., 1.]])"
      ]
     },
     "execution_count": 55,
     "metadata": {},
     "output_type": "execute_result"
    }
   ],
   "source": [
    "np.eye(3)"
   ]
  },
  {
   "cell_type": "code",
   "execution_count": 58,
   "metadata": {
    "scrolled": true,
    "slideshow": {
     "slide_type": "skip"
    }
   },
   "outputs": [
    {
     "data": {
      "text/plain": [
       "array([[1., 0., 0., 0., 0.],\n",
       "       [0., 1., 0., 0., 0.],\n",
       "       [0., 0., 1., 0., 0.],\n",
       "       [0., 0., 0., 1., 0.],\n",
       "       [0., 0., 0., 0., 1.]])"
      ]
     },
     "execution_count": 58,
     "metadata": {},
     "output_type": "execute_result"
    }
   ],
   "source": [
    "np.eye(5)"
   ]
  },
  {
   "cell_type": "code",
   "execution_count": 72,
   "metadata": {},
   "outputs": [
    {
     "data": {
      "text/plain": [
       "array([[0., 0., 1., 0., 0.],\n",
       "       [0., 0., 0., 1., 0.],\n",
       "       [0., 0., 0., 0., 1.],\n",
       "       [0., 0., 0., 0., 0.],\n",
       "       [0., 0., 0., 0., 0.]])"
      ]
     },
     "execution_count": 72,
     "metadata": {},
     "output_type": "execute_result"
    }
   ],
   "source": [
    "np.eye(5,5,2)"
   ]
  },
  {
   "cell_type": "markdown",
   "metadata": {
    "slideshow": {
     "slide_type": "slide"
    }
   },
   "source": [
    "## 난수(랜덤값)를 원소로 하는 ndarray 생성\n",
    "\n",
    "- numpy의 서브패키지인 random 패키지에서 제공하는 함수들\n",
    "- np.random.seed(정수) : 시드값 설정"
   ]
  },
  {
   "cell_type": "markdown",
   "metadata": {
    "slideshow": {
     "slide_type": "subslide"
    }
   },
   "source": [
    "### np.random.seed(시드값)\n",
    "- 난수 발생 알고리즘이 사용할 시작값(시드값)을 설정\n",
    "- 시드값을 설정하면 항상 일정한 난수가 발생한다. (알고리즘은 일정하기 때문에)"
   ]
  },
  {
   "cell_type": "markdown",
   "metadata": {
    "slideshow": {
     "slide_type": "fragment"
    }
   },
   "source": [
    "### np.random.rand(axis0[, axis1, axis2, ...])    (shape값, ...)\n",
    "- 0~1사이의 실수를 리턴\n",
    "- 축의 크기는 순서대로 나열한다."
   ]
  },
  {
   "cell_type": "code",
   "execution_count": 74,
   "metadata": {
    "slideshow": {
     "slide_type": "skip"
    }
   },
   "outputs": [],
   "source": [
    "import numpy as np"
   ]
  },
  {
   "cell_type": "code",
   "execution_count": 75,
   "metadata": {},
   "outputs": [],
   "source": [
    "np.random.seed(10) # 시드값을 설정하면 항상 일정한 난수가 발생한다."
   ]
  },
  {
   "cell_type": "code",
   "execution_count": 62,
   "metadata": {
    "slideshow": {
     "slide_type": "skip"
    }
   },
   "outputs": [
    {
     "data": {
      "text/plain": [
       "0.771320643266746"
      ]
     },
     "execution_count": 62,
     "metadata": {},
     "output_type": "execute_result"
    }
   ],
   "source": [
    "np.random.rand()"
   ]
  },
  {
   "cell_type": "code",
   "execution_count": 63,
   "metadata": {},
   "outputs": [
    {
     "data": {
      "text/plain": [
       "0.0207519493594015"
      ]
     },
     "execution_count": 63,
     "metadata": {},
     "output_type": "execute_result"
    }
   ],
   "source": [
    "np.random.rand()"
   ]
  },
  {
   "cell_type": "code",
   "execution_count": 64,
   "metadata": {},
   "outputs": [
    {
     "data": {
      "text/plain": [
       "0.6336482349262754"
      ]
     },
     "execution_count": 64,
     "metadata": {},
     "output_type": "execute_result"
    }
   ],
   "source": [
    "np.random.rand()"
   ]
  },
  {
   "cell_type": "code",
   "execution_count": 67,
   "metadata": {},
   "outputs": [
    {
     "data": {
      "text/plain": [
       "array([0.77132064, 0.02075195, 0.63364823, 0.74880388, 0.49850701])"
      ]
     },
     "execution_count": 67,
     "metadata": {},
     "output_type": "execute_result"
    }
   ],
   "source": [
    "np.random.rand(5) # 시드값 설정하면 항상 동일한 순서의 값을 갖게 됨"
   ]
  },
  {
   "cell_type": "code",
   "execution_count": 79,
   "metadata": {},
   "outputs": [
    {
     "data": {
      "text/plain": [
       "array([[[0.69177461, 0.18902945, 0.80300754],\n",
       "        [0.51476375, 0.75728604, 0.17778875],\n",
       "        [0.08262029, 0.48207197, 0.52885388],\n",
       "        [0.69630827, 0.20476161, 0.67137233]],\n",
       "\n",
       "       [[0.79326933, 0.04173781, 0.96335751],\n",
       "        [0.97539272, 0.55066078, 0.06490698],\n",
       "        [0.34523679, 0.02042997, 0.80085181],\n",
       "        [0.2079271 , 0.14325251, 0.69989398]],\n",
       "\n",
       "       [[0.05794981, 0.25660757, 0.51033178],\n",
       "        [0.99525878, 0.14651568, 0.44951478],\n",
       "        [0.60144038, 0.09727249, 0.28873488],\n",
       "        [0.7207999 , 0.55080606, 0.83857702]],\n",
       "\n",
       "       [[0.58033135, 0.18457174, 0.61550212],\n",
       "        [0.88695509, 0.51678928, 0.62614367],\n",
       "        [0.50505912, 0.90966258, 0.41330466],\n",
       "        [0.53546872, 0.34264313, 0.12957678]],\n",
       "\n",
       "       [[0.66282175, 0.93567   , 0.61272918],\n",
       "        [0.8427385 , 0.21790844, 0.90317174],\n",
       "        [0.00976998, 0.22581273, 0.13205513],\n",
       "        [0.90754295, 0.91023064, 0.58105791]]])"
      ]
     },
     "execution_count": 79,
     "metadata": {},
     "output_type": "execute_result"
    }
   ],
   "source": [
    "np.random.rand(5,4,3)"
   ]
  },
  {
   "cell_type": "code",
   "execution_count": 78,
   "metadata": {},
   "outputs": [
    {
     "data": {
      "text/plain": [
       "array([[[[[0.48402089],\n",
       "          [0.84438579]],\n",
       "\n",
       "         [[0.17481389],\n",
       "          [0.01463488]],\n",
       "\n",
       "         [[0.84876407],\n",
       "          [0.74267458]]],\n",
       "\n",
       "\n",
       "        [[[0.45669754],\n",
       "          [0.41689841]],\n",
       "\n",
       "         [[0.11672951],\n",
       "          [0.33867913]],\n",
       "\n",
       "         [[0.09465904],\n",
       "          [0.71583087]]],\n",
       "\n",
       "\n",
       "        [[[0.0770854 ],\n",
       "          [0.20595026]],\n",
       "\n",
       "         [[0.57377623],\n",
       "          [0.29383156]],\n",
       "\n",
       "         [[0.65572674],\n",
       "          [0.80356835]]],\n",
       "\n",
       "\n",
       "        [[[0.3512135 ],\n",
       "          [0.09344038]],\n",
       "\n",
       "         [[0.81331608],\n",
       "          [0.78486672]],\n",
       "\n",
       "         [[0.39341911],\n",
       "          [0.86447919]]]],\n",
       "\n",
       "\n",
       "\n",
       "       [[[[0.38403077],\n",
       "          [0.25730289]],\n",
       "\n",
       "         [[0.82940192],\n",
       "          [0.7363827 ]],\n",
       "\n",
       "         [[0.50760091],\n",
       "          [0.64432662]]],\n",
       "\n",
       "\n",
       "        [[[0.21318657],\n",
       "          [0.89570895]],\n",
       "\n",
       "         [[0.96594625],\n",
       "          [0.31700156]],\n",
       "\n",
       "         [[0.86555262],\n",
       "          [0.31028371]]],\n",
       "\n",
       "\n",
       "        [[[0.02526395],\n",
       "          [0.04919516]],\n",
       "\n",
       "         [[0.18462684],\n",
       "          [0.06903334]],\n",
       "\n",
       "         [[0.25747542],\n",
       "          [0.91358173]]],\n",
       "\n",
       "\n",
       "        [[[0.45784951],\n",
       "          [0.13021179]],\n",
       "\n",
       "         [[0.80989167],\n",
       "          [0.40346984]],\n",
       "\n",
       "         [[0.02443264],\n",
       "          [0.85683104]]]],\n",
       "\n",
       "\n",
       "\n",
       "       [[[[0.27429482],\n",
       "          [0.70910596]],\n",
       "\n",
       "         [[0.35577234],\n",
       "          [0.79430906]],\n",
       "\n",
       "         [[0.84461886],\n",
       "          [0.53814752]]],\n",
       "\n",
       "\n",
       "        [[[0.55908652],\n",
       "          [0.12250998]],\n",
       "\n",
       "         [[0.37764192],\n",
       "          [0.42874733]],\n",
       "\n",
       "         [[0.51120865],\n",
       "          [0.89176257]]],\n",
       "\n",
       "\n",
       "        [[[0.30021061],\n",
       "          [0.39644188]],\n",
       "\n",
       "         [[0.79327323],\n",
       "          [0.41227608]],\n",
       "\n",
       "         [[0.18486755],\n",
       "          [0.84024732]]],\n",
       "\n",
       "\n",
       "        [[[0.5692714 ],\n",
       "          [0.06005021]],\n",
       "\n",
       "         [[0.98891697],\n",
       "          [0.22878233]],\n",
       "\n",
       "         [[0.61470171],\n",
       "          [0.36802668]]]],\n",
       "\n",
       "\n",
       "\n",
       "       [[[[0.80277594],\n",
       "          [0.62756185]],\n",
       "\n",
       "         [[0.82121648],\n",
       "          [0.28825314]],\n",
       "\n",
       "         [[0.27479513],\n",
       "          [0.60105189]]],\n",
       "\n",
       "\n",
       "        [[[0.9385142 ],\n",
       "          [0.70729631]],\n",
       "\n",
       "         [[0.26340316],\n",
       "          [0.12233592]],\n",
       "\n",
       "         [[0.45872423],\n",
       "          [0.9748125 ]]],\n",
       "\n",
       "\n",
       "        [[[0.68057437],\n",
       "          [0.19325373]],\n",
       "\n",
       "         [[0.04673923],\n",
       "          [0.95264394]],\n",
       "\n",
       "         [[0.85864902],\n",
       "          [0.82790318]]],\n",
       "\n",
       "\n",
       "        [[[0.96390052],\n",
       "          [0.59893645]],\n",
       "\n",
       "         [[0.93091584],\n",
       "          [0.14676881]],\n",
       "\n",
       "         [[0.11396031],\n",
       "          [0.3720289 ]]]],\n",
       "\n",
       "\n",
       "\n",
       "       [[[[0.76656013],\n",
       "          [0.32114203]],\n",
       "\n",
       "         [[0.63803508],\n",
       "          [0.0092211 ]],\n",
       "\n",
       "         [[0.54346504],\n",
       "          [0.33775465]]],\n",
       "\n",
       "\n",
       "        [[[0.89802431],\n",
       "          [0.94070704]],\n",
       "\n",
       "         [[0.38412185],\n",
       "          [0.39611779]],\n",
       "\n",
       "         [[0.89727994],\n",
       "          [0.05882237]]],\n",
       "\n",
       "\n",
       "        [[[0.40537929],\n",
       "          [0.13017554]],\n",
       "\n",
       "         [[0.08696941],\n",
       "          [0.78396429]],\n",
       "\n",
       "         [[0.30457336],\n",
       "          [0.58405587]]],\n",
       "\n",
       "\n",
       "        [[[0.87846618],\n",
       "          [0.88079206]],\n",
       "\n",
       "         [[0.60095421],\n",
       "          [0.64522775]],\n",
       "\n",
       "         [[0.0566282 ],\n",
       "          [0.2974841 ]]]]])"
      ]
     },
     "execution_count": 78,
     "metadata": {},
     "output_type": "execute_result"
    }
   ],
   "source": [
    "np.random.rand(5,4,3,2,1)"
   ]
  },
  {
   "cell_type": "markdown",
   "metadata": {},
   "source": [
    "### np.random.normal(loc=0, scale=1, size=None)\n",
    "정규 분포를 따르는 난수를 반환\n",
    " - loc: 평균\n",
    " - scale: 표준편차\n",
    " - size: shape지정"
   ]
  },
  {
   "cell_type": "code",
   "execution_count": 6,
   "metadata": {},
   "outputs": [
    {
     "data": {
      "text/plain": [
       "array([-0.23536936, -0.19947468, -0.4938678 , -0.45727511,  2.32113133,\n",
       "       -1.70699997, -1.3627915 , -2.41226143,  1.07700691, -0.31666389,\n",
       "        0.96186851, -0.1555589 ,  2.0355498 , -1.02954801, -0.3615263 ,\n",
       "       -0.03164591, -0.42080774, -0.2130671 ,  0.20640191,  0.78789666])"
      ]
     },
     "execution_count": 6,
     "metadata": {},
     "output_type": "execute_result"
    }
   ],
   "source": [
    "a=np.random.normal(size=(20,))\n",
    "a"
   ]
  },
  {
   "cell_type": "code",
   "execution_count": 7,
   "metadata": {},
   "outputs": [
    {
     "data": {
      "text/plain": [
       "-0.10035012921791953"
      ]
     },
     "execution_count": 7,
     "metadata": {},
     "output_type": "execute_result"
    }
   ],
   "source": [
    "np.mean(a)  # 평균"
   ]
  },
  {
   "cell_type": "code",
   "execution_count": 8,
   "metadata": {},
   "outputs": [
    {
     "data": {
      "text/plain": [
       "1.1125444088758563"
      ]
     },
     "execution_count": 8,
     "metadata": {},
     "output_type": "execute_result"
    }
   ],
   "source": [
    "np.std(a) # 표준편차"
   ]
  },
  {
   "cell_type": "code",
   "execution_count": 10,
   "metadata": {},
   "outputs": [
    {
     "data": {
      "text/plain": [
       "array([[ 4.50823056,  6.23212161,  3.67306641,  7.90960149,  5.59818698,\n",
       "         6.6532894 ,  3.4579259 ,  4.7873008 ,  5.66785531,  4.01963398],\n",
       "       [ 7.1325091 ,  8.24896002,  9.64469709,  8.791566  ,  2.34917022,\n",
       "         5.70450529, 10.08335003,  9.62222653,  5.61825348,  6.16429508],\n",
       "       [ 2.83065907,  7.47005969, -0.75389232,  9.20341356,  1.21370366,\n",
       "         5.65392522,  2.82685091,  6.78149179,  2.10451424,  9.35413116],\n",
       "       [ 4.18299282,  9.53000664,  6.99063254,  2.49577129,  2.40186052,\n",
       "         3.19299108,  6.73805633, 12.48590067,  8.78504943,  4.38589867],\n",
       "       [ 3.11064693,  6.82618167,  7.8767289 ,  4.2528048 ,  8.19182961,\n",
       "         6.44485476,  2.2773242 ,  4.3727391 ,  8.70194548,  8.28703985]])"
      ]
     },
     "execution_count": 10,
     "metadata": {},
     "output_type": "execute_result"
    }
   ],
   "source": [
    "b=np.random.normal(loc=5, scale=3, size=(5,10))\n",
    "b"
   ]
  },
  {
   "cell_type": "code",
   "execution_count": 13,
   "metadata": {},
   "outputs": [
    {
     "data": {
      "text/plain": [
       "(5.881657150879428, 2.737432929319716)"
      ]
     },
     "execution_count": 13,
     "metadata": {},
     "output_type": "execute_result"
    }
   ],
   "source": [
    "np.mean(b), np.std(b)"
   ]
  },
  {
   "cell_type": "markdown",
   "metadata": {
    "slideshow": {
     "slide_type": "subslide"
    }
   },
   "source": [
    "### np.random.randint(low, high=None, size=None, dtype='l')\n",
    "임의의 정수를 가지는 1차원 배열[API](https://docs.scipy.org/doc/numpy-1.15.0/reference/generated/numpy.random.randint.html#numpy.random.randint)\n",
    "\n",
    "- low ~ high 사이의 정수 리턴. high는 포함안됨\n",
    "- high 생략시 0 ~ low 사이 정수 리턴. low는 포함안됨\n",
    "- size : 배열의 크기. 다차원은 튜플로 지정 기본 1개\n",
    "- dtype : 원소의 타입"
   ]
  },
  {
   "cell_type": "code",
   "execution_count": 84,
   "metadata": {
    "slideshow": {
     "slide_type": "skip"
    }
   },
   "outputs": [
    {
     "data": {
      "text/plain": [
       "array([13, 11, 19, 10, 10, 12, 14, 12, 19, 19])"
      ]
     },
     "execution_count": 84,
     "metadata": {},
     "output_type": "execute_result"
    }
   ],
   "source": [
    "np.random.randint(low=10,high=20,size=(10,))"
   ]
  },
  {
   "cell_type": "code",
   "execution_count": 15,
   "metadata": {
    "slideshow": {
     "slide_type": "skip"
    }
   },
   "outputs": [
    {
     "data": {
      "text/plain": [
       "array([[1, 8, 5, 1, 2, 4, 8, 7, 8, 3],\n",
       "       [2, 4, 2, 7, 9, 5, 6, 6, 6, 0]])"
      ]
     },
     "execution_count": 15,
     "metadata": {},
     "output_type": "execute_result"
    }
   ],
   "source": [
    "np.random.randint(10,size=(2,10))"
   ]
  },
  {
   "cell_type": "code",
   "execution_count": 85,
   "metadata": {},
   "outputs": [
    {
     "data": {
      "text/plain": [
       "array([[[17, 11, 13, 15],\n",
       "        [14, 11, 17, 18],\n",
       "        [16, 10, 14, 13]],\n",
       "\n",
       "       [[10, 11, 12, 17],\n",
       "        [18, 18, 16, 10],\n",
       "        [13, 15, 16, 13]]])"
      ]
     },
     "execution_count": 85,
     "metadata": {},
     "output_type": "execute_result"
    }
   ],
   "source": [
    "np.random.randint(10,20,size=(2,3,4))"
   ]
  },
  {
   "cell_type": "markdown",
   "metadata": {
    "slideshow": {
     "slide_type": "subslide"
    }
   },
   "source": [
    "### np.random.choice(a, size=None, replace=True, p=None)\n",
    "- 샘플링 메소드\n",
    "- a : 샘플링대상. 1차원 배열 또는 정수 (정수일 경우 0 ~ 정수, 정수 불포함)\n",
    "- size : 샘플 개수\n",
    "- replace : True-복원추출(기본), False-비복원추출\n",
    "- p: 샘플링할 대상 값들이 추출될 확률 지정한 배열"
   ]
  },
  {
   "cell_type": "code",
   "execution_count": 18,
   "metadata": {},
   "outputs": [
    {
     "data": {
      "text/plain": [
       "array([1, 0, 0, 0, 0, 1, 1, 0, 0, 1])"
      ]
     },
     "execution_count": 18,
     "metadata": {},
     "output_type": "execute_result"
    }
   ],
   "source": [
    "a=np.array([0,1])\n",
    "np.random.choice(a,size=10)"
   ]
  },
  {
   "cell_type": "code",
   "execution_count": 50,
   "metadata": {},
   "outputs": [
    {
     "data": {
      "text/plain": [
       "array([1, 1, 0, 1, 0, 1, 1, 1, 1, 0, 1, 1, 1, 1, 1, 1, 1, 0, 1, 0, 0, 1,\n",
       "       1, 1, 1, 1, 1, 0, 0, 1, 1, 1, 1, 1, 1, 1, 1, 1, 1, 1, 0, 1, 1, 0,\n",
       "       1, 1, 1, 1, 1, 1, 1, 1, 1, 1, 1, 1, 1, 1, 1, 1, 1, 1, 1, 1, 0, 1,\n",
       "       0, 1, 1, 1, 1, 1, 1, 1, 1, 1, 1, 1, 1, 1, 1, 1, 1, 1, 1, 1, 1, 1,\n",
       "       1, 1, 0, 1, 1, 1, 1, 1, 1, 1, 1, 1])"
      ]
     },
     "execution_count": 50,
     "metadata": {},
     "output_type": "execute_result"
    }
   ],
   "source": [
    "np.random.choice(a,size=100, p=[0.1,0.9]) # 0: 0.1, 1: 0.9의 확률로 추출"
   ]
  },
  {
   "cell_type": "code",
   "execution_count": 55,
   "metadata": {},
   "outputs": [
    {
     "data": {
      "text/plain": [
       "array([7, 0, 9, 4, 8])"
      ]
     },
     "execution_count": 55,
     "metadata": {},
     "output_type": "execute_result"
    }
   ],
   "source": [
    "b=np.arange(10)\n",
    "np.random.choice(b, size=5, replace=False) # replace: 비복원추출(중복불가)"
   ]
  },
  {
   "cell_type": "code",
   "execution_count": null,
   "metadata": {},
   "outputs": [],
   "source": []
  },
  {
   "cell_type": "code",
   "execution_count": null,
   "metadata": {},
   "outputs": [],
   "source": []
  }
 ],
 "metadata": {
  "kernelspec": {
   "display_name": "Python 3",
   "language": "python",
   "name": "python3"
  },
  "language_info": {
   "codemirror_mode": {
    "name": "ipython",
    "version": 3
   },
   "file_extension": ".py",
   "mimetype": "text/x-python",
   "name": "python",
   "nbconvert_exporter": "python",
   "pygments_lexer": "ipython3",
   "version": "3.7.3"
  },
  "toc": {
   "base_numbering": 1,
   "nav_menu": {},
   "number_sections": false,
   "sideBar": false,
   "skip_h1_title": false,
   "title_cell": "Table of Contents",
   "title_sidebar": "Contents",
   "toc_cell": false,
   "toc_position": {},
   "toc_section_display": true,
   "toc_window_display": false
  },
  "varInspector": {
   "cols": {
    "lenName": 16,
    "lenType": 16,
    "lenVar": 40
   },
   "kernels_config": {
    "python": {
     "delete_cmd_postfix": "",
     "delete_cmd_prefix": "del ",
     "library": "var_list.py",
     "varRefreshCmd": "print(var_dic_list())"
    },
    "r": {
     "delete_cmd_postfix": ") ",
     "delete_cmd_prefix": "rm(",
     "library": "var_list.r",
     "varRefreshCmd": "cat(var_dic_list()) "
    }
   },
   "types_to_exclude": [
    "module",
    "function",
    "builtin_function_or_method",
    "instance",
    "_Feature"
   ],
   "window_display": false
  }
 },
 "nbformat": 4,
 "nbformat_minor": 4
}
