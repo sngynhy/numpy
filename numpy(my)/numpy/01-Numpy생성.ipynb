{
 "cells": [
  {
   "cell_type": "markdown",
   "metadata": {
    "slideshow": {
     "slide_type": "slide"
    }
   },
   "source": [
    "## 넘파이에서 데이터 구조\n",
    "- Tensor(텐서)\n",
    "    - 데이터(값)들을 모아 놓는 틀(컨테이너)\n",
    "- 스칼라 (Scalar) – 0D tensor\n",
    "    - 하나의 값만 담고 있는 tensor\n",
    "- 벡터 (Vector) – 1D tensor\n",
    "    - 하나의 축(방향)으로 값들을 모아 놓은 tensor\n",
    "    - 1차원 배열\n",
    "- 행렬 (Matrix) – 2D tensor\n",
    "    - 두 개의 축(axis)으로 값들을 모아 놓은 tensor\n",
    "    - 행과 열로 구성된 2차원 배열\n",
    "- 텐서 (Tensor) – ND tensor\n",
    "    - 세 개 이상의 축(axis)으로 값을 모아 놓은 tensor\n",
    "    - 다차원 배열"
   ]
  },
  {
   "cell_type": "markdown",
   "metadata": {
    "slideshow": {
     "slide_type": "subslide"
    }
   },
   "source": [
    "![array_shape](img/array_shape.png)\n",
    "\n",
    "[출처: https://www.oreilly.com/library/view/elegant-scipy/9781491922927/ch01.html ]"
   ]
  },
  {
   "cell_type": "markdown",
   "metadata": {},
   "source": [
    "### 용어\n",
    "- 축 (axis) \n",
    "    - 값들의 방향. \n",
    "- 랭크(rank) \n",
    "    - 축의 개수. \n",
    "- 형태/형상(shape)\n",
    "    - 각 축(axis) 별 데이터의 개수\n",
    "- 크기(size) \n",
    "    - 배열내 원소의 총 개수"
   ]
  },
  {
   "cell_type": "markdown",
   "metadata": {
    "slideshow": {
     "slide_type": "slide"
    }
   },
   "source": [
    "# 넘파이 배열(ndarray)"
   ]
  },
  {
   "cell_type": "markdown",
   "metadata": {
    "slideshow": {
     "slide_type": "fragment"
    }
   },
   "source": [
    "- Numpy에서 제공하는 N 차원 배열 객체\n",
    "- 같은 타입의 값들만 가질 수 있다.\n",
    "- 빠르고 메모리를 효율 적으로 사용하며 벡터 연산과 브로드캐스팅 기능을 제공한다. "
   ]
  },
  {
   "cell_type": "markdown",
   "metadata": {},
   "source": [
    "## 배열 생성 함수\n",
    "### array(배열형태 객체 [, dtype])\n",
    "- 배열형태 객체가 가진 원소들로 구성된 numpy 배열 생성\n",
    "> - 배열형태 객체  (array-like)  \n",
    ">     - 리스트, 튜플, 넘파이배열(ndarray), Series"
   ]
  },
  {
   "cell_type": "code",
   "execution_count": 1,
   "metadata": {},
   "outputs": [],
   "source": [
    "# pip install numpy"
   ]
  },
  {
   "cell_type": "code",
   "execution_count": 3,
   "metadata": {
    "slideshow": {
     "slide_type": "skip"
    }
   },
   "outputs": [],
   "source": [
    "import numpy as np"
   ]
  },
  {
   "cell_type": "code",
   "execution_count": 14,
   "metadata": {},
   "outputs": [
    {
     "data": {
      "text/plain": [
       "(5,)"
      ]
     },
     "execution_count": 14,
     "metadata": {},
     "output_type": "execute_result"
    }
   ],
   "source": [
    "arr1 = np.array([1,2,3,4,5])\n",
    "arr1.shape"
   ]
  },
  {
   "cell_type": "code",
   "execution_count": 15,
   "metadata": {},
   "outputs": [
    {
     "name": "stdout",
     "output_type": "stream",
     "text": [
      "[1 2 3 4 5]\n"
     ]
    }
   ],
   "source": [
    "print(arr1)"
   ]
  },
  {
   "cell_type": "code",
   "execution_count": 16,
   "metadata": {},
   "outputs": [
    {
     "data": {
      "text/plain": [
       "array([1, 2, 3, 4, 5])"
      ]
     },
     "execution_count": 16,
     "metadata": {},
     "output_type": "execute_result"
    }
   ],
   "source": [
    "arr1"
   ]
  },
  {
   "cell_type": "code",
   "execution_count": 17,
   "metadata": {},
   "outputs": [
    {
     "data": {
      "text/plain": [
       "numpy.ndarray"
      ]
     },
     "execution_count": 17,
     "metadata": {},
     "output_type": "execute_result"
    }
   ],
   "source": [
    "type(arr1)"
   ]
  },
  {
   "cell_type": "code",
   "execution_count": 8,
   "metadata": {},
   "outputs": [
    {
     "data": {
      "text/plain": [
       "list"
      ]
     },
     "execution_count": 8,
     "metadata": {},
     "output_type": "execute_result"
    }
   ],
   "source": [
    "type([1,2])"
   ]
  },
  {
   "cell_type": "code",
   "execution_count": 18,
   "metadata": {},
   "outputs": [
    {
     "data": {
      "text/plain": [
       "(2, 4)"
      ]
     },
     "execution_count": 18,
     "metadata": {},
     "output_type": "execute_result"
    }
   ],
   "source": [
    "l1 = [1,1,1,1]\n",
    "l2 = [2,2,2,2]\n",
    "l = [l1, l2]\n",
    "arr2 = np.array(l)\n",
    "arr2.shape"
   ]
  },
  {
   "cell_type": "code",
   "execution_count": 19,
   "metadata": {},
   "outputs": [
    {
     "data": {
      "text/plain": [
       "array([[1, 1, 1, 1],\n",
       "       [2, 2, 2, 2]])"
      ]
     },
     "execution_count": 19,
     "metadata": {},
     "output_type": "execute_result"
    }
   ],
   "source": [
    "arr2"
   ]
  },
  {
   "cell_type": "code",
   "execution_count": 20,
   "metadata": {},
   "outputs": [
    {
     "data": {
      "text/plain": [
       "[[3, 3, 3, 3], [4, 4, 4, 4]]"
      ]
     },
     "execution_count": 20,
     "metadata": {},
     "output_type": "execute_result"
    }
   ],
   "source": [
    "l3 = [3,3,3,3]\n",
    "l4 = [4,4,4,4]\n",
    "ll = [l3, l4]\n",
    "ll"
   ]
  },
  {
   "cell_type": "code",
   "execution_count": 21,
   "metadata": {},
   "outputs": [
    {
     "data": {
      "text/plain": [
       "(2, 2, 4)"
      ]
     },
     "execution_count": 21,
     "metadata": {},
     "output_type": "execute_result"
    }
   ],
   "source": [
    "arr3 = np.array([l, ll])\n",
    "arr3.shape"
   ]
  },
  {
   "cell_type": "code",
   "execution_count": 22,
   "metadata": {},
   "outputs": [
    {
     "data": {
      "text/plain": [
       "array([[[1, 1, 1, 1],\n",
       "        [2, 2, 2, 2]],\n",
       "\n",
       "       [[3, 3, 3, 3],\n",
       "        [4, 4, 4, 4]]])"
      ]
     },
     "execution_count": 22,
     "metadata": {},
     "output_type": "execute_result"
    }
   ],
   "source": [
    "arr3"
   ]
  },
  {
   "cell_type": "code",
   "execution_count": 23,
   "metadata": {},
   "outputs": [
    {
     "data": {
      "text/plain": [
       "array(['1', '2.5', '3', 'A'], dtype='<U32')"
      ]
     },
     "execution_count": 23,
     "metadata": {},
     "output_type": "execute_result"
    }
   ],
   "source": [
    "# 문자열 <- 실수 <- 정수 <- 논리(T:1, F:0)\n",
    "np.array([1, 2.5, 3, 'A'])"
   ]
  },
  {
   "cell_type": "markdown",
   "metadata": {
    "slideshow": {
     "slide_type": "slide"
    }
   },
   "source": [
    "## 데이터 타입\n",
    "- 원소들의 데이터 타입\n",
    "- ndarray 는 같은 타입의 데이터만 모아서 관리한다.\n",
    "- 배열 생성시 dtype 속성을 이용해 데이터 타입 설정 가능\n",
    "- ndarray.dtype 속성을 이용해 조회\n",
    "- ndarray.astype(데이터타입)\n",
    "    - 데이터타입 변환하는 메소드\n",
    "    - 변환한 새로운 ndarray객체를 반환"
   ]
  },
  {
   "cell_type": "markdown",
   "metadata": {
    "slideshow": {
     "slide_type": "subslide"
    }
   },
   "source": [
    "![image.png](img/numpy_datatype.png)"
   ]
  },
  {
   "cell_type": "code",
   "execution_count": 24,
   "metadata": {},
   "outputs": [
    {
     "data": {
      "text/plain": [
       "dtype('int32')"
      ]
     },
     "execution_count": 24,
     "metadata": {},
     "output_type": "execute_result"
    }
   ],
   "source": [
    "arr = np.array([1,2,3])\n",
    "# 데이터 타입 확인\n",
    "arr.dtype"
   ]
  },
  {
   "cell_type": "code",
   "execution_count": 25,
   "metadata": {},
   "outputs": [
    {
     "data": {
      "text/plain": [
       "dtype('float64')"
      ]
     },
     "execution_count": 25,
     "metadata": {},
     "output_type": "execute_result"
    }
   ],
   "source": [
    "arr2 = np.array([1.5, 2.5, 3.5])\n",
    "arr2.dtype"
   ]
  },
  {
   "cell_type": "code",
   "execution_count": 28,
   "metadata": {},
   "outputs": [],
   "source": [
    "# 배열의 type을 변환. astype() : 원본을 바꾸지 않는다. \n",
    "# int32 -> int8\n",
    "arr1 = arr.astype('int8')"
   ]
  },
  {
   "cell_type": "code",
   "execution_count": 30,
   "metadata": {},
   "outputs": [
    {
     "data": {
      "text/plain": [
       "(dtype('int32'), dtype('int8'))"
      ]
     },
     "execution_count": 30,
     "metadata": {},
     "output_type": "execute_result"
    }
   ],
   "source": [
    "arr.dtype, arr1.dtype"
   ]
  },
  {
   "cell_type": "code",
   "execution_count": 31,
   "metadata": {},
   "outputs": [
    {
     "data": {
      "text/plain": [
       "dtype('float64')"
      ]
     },
     "execution_count": 31,
     "metadata": {},
     "output_type": "execute_result"
    }
   ],
   "source": [
    "arr3 = np.array([10,20,30],  dtype='float64')\n",
    "arr3.dtype"
   ]
  },
  {
   "cell_type": "code",
   "execution_count": 32,
   "metadata": {},
   "outputs": [
    {
     "data": {
      "text/plain": [
       "array([10., 20., 30.])"
      ]
     },
     "execution_count": 32,
     "metadata": {},
     "output_type": "execute_result"
    }
   ],
   "source": [
    "arr3"
   ]
  },
  {
   "cell_type": "code",
   "execution_count": 34,
   "metadata": {},
   "outputs": [
    {
     "name": "stdout",
     "output_type": "stream",
     "text": [
      "0.5 0.5\n",
      "10.0 10.0\n"
     ]
    }
   ],
   "source": [
    "print(0.5, .5)\n",
    "print(10.0, 10.)"
   ]
  },
  {
   "cell_type": "code",
   "execution_count": 35,
   "metadata": {},
   "outputs": [
    {
     "data": {
      "text/plain": [
       "array([2, 3])"
      ]
     },
     "execution_count": 35,
     "metadata": {},
     "output_type": "execute_result"
    }
   ],
   "source": [
    "np.array([2.5, 3.3], dtype=\"int\")"
   ]
  },
  {
   "cell_type": "code",
   "execution_count": 37,
   "metadata": {},
   "outputs": [
    {
     "data": {
      "text/plain": [
       "dtype('int32')"
      ]
     },
     "execution_count": 37,
     "metadata": {},
     "output_type": "execute_result"
    }
   ],
   "source": [
    "arr.astype(np.int32).dtype"
   ]
  },
  {
   "cell_type": "markdown",
   "metadata": {
    "slideshow": {
     "slide_type": "subslide"
    }
   },
   "source": [
    "### zeros(shape, dtype)\n",
    "원소들을 0으로 채운 배열 생성\n",
    "- shape : 형태(크기, 개수) 지정\n",
    "- dtype : 요소의 개수 지정"
   ]
  },
  {
   "cell_type": "code",
   "execution_count": 40,
   "metadata": {
    "slideshow": {
     "slide_type": "skip"
    }
   },
   "outputs": [
    {
     "data": {
      "text/plain": [
       "array([0., 0., 0., 0., 0.])"
      ]
     },
     "execution_count": 40,
     "metadata": {},
     "output_type": "execute_result"
    }
   ],
   "source": [
    "z1 = np.zeros((5))\n",
    "z1"
   ]
  },
  {
   "cell_type": "code",
   "execution_count": 41,
   "metadata": {},
   "outputs": [
    {
     "data": {
      "text/plain": [
       "(5,)"
      ]
     },
     "execution_count": 41,
     "metadata": {},
     "output_type": "execute_result"
    }
   ],
   "source": [
    "z1.shape"
   ]
  },
  {
   "cell_type": "code",
   "execution_count": 42,
   "metadata": {},
   "outputs": [
    {
     "data": {
      "text/plain": [
       "(3, 2, 5)"
      ]
     },
     "execution_count": 42,
     "metadata": {},
     "output_type": "execute_result"
    }
   ],
   "source": [
    "z2 = np.zeros(shape=(3,2,5))\n",
    "z2.shape"
   ]
  },
  {
   "cell_type": "code",
   "execution_count": 43,
   "metadata": {},
   "outputs": [
    {
     "data": {
      "text/plain": [
       "dtype('float64')"
      ]
     },
     "execution_count": 43,
     "metadata": {},
     "output_type": "execute_result"
    }
   ],
   "source": [
    "z2.dtype"
   ]
  },
  {
   "cell_type": "code",
   "execution_count": 44,
   "metadata": {},
   "outputs": [
    {
     "data": {
      "text/plain": [
       "array([[[0., 0., 0., 0., 0.],\n",
       "        [0., 0., 0., 0., 0.]],\n",
       "\n",
       "       [[0., 0., 0., 0., 0.],\n",
       "        [0., 0., 0., 0., 0.]],\n",
       "\n",
       "       [[0., 0., 0., 0., 0.],\n",
       "        [0., 0., 0., 0., 0.]]])"
      ]
     },
     "execution_count": 44,
     "metadata": {},
     "output_type": "execute_result"
    }
   ],
   "source": [
    "z2"
   ]
  },
  {
   "cell_type": "markdown",
   "metadata": {
    "slideshow": {
     "slide_type": "subslide"
    }
   },
   "source": [
    "### ones(shape, dtype)\n",
    "원소들을 1로 채운 배열 생성\n",
    "- shape : 형태(크기, 개수) 지정\n",
    "- dtype : 요소의 개수 지정"
   ]
  },
  {
   "cell_type": "code",
   "execution_count": 45,
   "metadata": {},
   "outputs": [
    {
     "data": {
      "text/plain": [
       "(4,)"
      ]
     },
     "execution_count": 45,
     "metadata": {},
     "output_type": "execute_result"
    }
   ],
   "source": [
    "o1 = np.ones((4))\n",
    "o1.shape"
   ]
  },
  {
   "cell_type": "code",
   "execution_count": 46,
   "metadata": {},
   "outputs": [
    {
     "data": {
      "text/plain": [
       "array([1., 1., 1., 1.])"
      ]
     },
     "execution_count": 46,
     "metadata": {},
     "output_type": "execute_result"
    }
   ],
   "source": [
    "o1"
   ]
  },
  {
   "cell_type": "code",
   "execution_count": 47,
   "metadata": {},
   "outputs": [
    {
     "data": {
      "text/plain": [
       "array([[1., 1., 1., 1., 1.],\n",
       "       [1., 1., 1., 1., 1.]])"
      ]
     },
     "execution_count": 47,
     "metadata": {},
     "output_type": "execute_result"
    }
   ],
   "source": [
    "o2 = np.ones((2,5))\n",
    "o2"
   ]
  },
  {
   "cell_type": "markdown",
   "metadata": {
    "slideshow": {
     "slide_type": "subslide"
    }
   },
   "source": [
    "### full(shape, fill_value, dtype))\n",
    "원소들을 원하는 값으로 채운 배열 생성\n",
    "- shape : 형태(크기, 개수) 지정\n",
    "- fill_vlaue : 채울 값\n",
    "- dtype : 요소의 개수 지정"
   ]
  },
  {
   "cell_type": "code",
   "execution_count": 48,
   "metadata": {
    "slideshow": {
     "slide_type": "skip"
    }
   },
   "outputs": [
    {
     "data": {
      "text/plain": [
       "(5,)"
      ]
     },
     "execution_count": 48,
     "metadata": {},
     "output_type": "execute_result"
    }
   ],
   "source": [
    "f1 = np.full(5, 10)\n",
    "f1.shape"
   ]
  },
  {
   "cell_type": "code",
   "execution_count": 49,
   "metadata": {
    "slideshow": {
     "slide_type": "skip"
    }
   },
   "outputs": [
    {
     "data": {
      "text/plain": [
       "array([10, 10, 10, 10, 10])"
      ]
     },
     "execution_count": 49,
     "metadata": {},
     "output_type": "execute_result"
    }
   ],
   "source": [
    "f1"
   ]
  },
  {
   "cell_type": "code",
   "execution_count": 50,
   "metadata": {},
   "outputs": [
    {
     "data": {
      "text/plain": [
       "(2, 3)"
      ]
     },
     "execution_count": 50,
     "metadata": {},
     "output_type": "execute_result"
    }
   ],
   "source": [
    "f2 = np.full(shape=(2,3), fill_value='가자')\n",
    "f2.shape"
   ]
  },
  {
   "cell_type": "code",
   "execution_count": 51,
   "metadata": {},
   "outputs": [
    {
     "data": {
      "text/plain": [
       "array([['가자', '가자', '가자'],\n",
       "       ['가자', '가자', '가자']], dtype='<U2')"
      ]
     },
     "execution_count": 51,
     "metadata": {},
     "output_type": "execute_result"
    }
   ],
   "source": [
    "f2"
   ]
  },
  {
   "cell_type": "markdown",
   "metadata": {
    "slideshow": {
     "slide_type": "subslide"
    }
   },
   "source": [
    "### arange(start, stop, step, dtype)\n",
    "start에서 stop 범위에서 step의 일정한 간격의 값들로 구성된 배열 리턴 [API](https://docs.scipy.org/doc/numpy-1.15.0/reference/generated/numpy.arange.html)\n",
    "- start : 범위의 시작값으로 포함된다.(생략가능 - 기본값:0)\n",
    "- stop : 범위의 끝값으로 **포함되지 않는다.** (필수)\n",
    "- step : 간격 (기본값 1)\n",
    "- dtype : 요소의 타입"
   ]
  },
  {
   "cell_type": "code",
   "execution_count": 52,
   "metadata": {
    "slideshow": {
     "slide_type": "skip"
    }
   },
   "outputs": [
    {
     "name": "stdout",
     "output_type": "stream",
     "text": [
      "(5,)\n"
     ]
    },
    {
     "data": {
      "text/plain": [
       "array([1, 3, 5, 7, 9])"
      ]
     },
     "execution_count": 52,
     "metadata": {},
     "output_type": "execute_result"
    }
   ],
   "source": [
    "arr = np.arange(1, 10, 2)\n",
    "print(arr.shape)\n",
    "arr"
   ]
  },
  {
   "cell_type": "code",
   "execution_count": 53,
   "metadata": {
    "slideshow": {
     "slide_type": "skip"
    }
   },
   "outputs": [
    {
     "data": {
      "text/plain": [
       "array([10, 15, 20, 25, 30, 35, 40, 45, 50, 55, 60, 65, 70, 75, 80, 85, 90,\n",
       "       95])"
      ]
     },
     "execution_count": 53,
     "metadata": {},
     "output_type": "execute_result"
    }
   ],
   "source": [
    "np.arange(10, 100, 5)"
   ]
  },
  {
   "cell_type": "code",
   "execution_count": 54,
   "metadata": {},
   "outputs": [
    {
     "data": {
      "text/plain": [
       "array([0, 1, 2, 3, 4, 5, 6, 7, 8, 9])"
      ]
     },
     "execution_count": 54,
     "metadata": {},
     "output_type": "execute_result"
    }
   ],
   "source": [
    "np.arange(10) # stop=10, start=0, step=1"
   ]
  },
  {
   "cell_type": "code",
   "execution_count": 55,
   "metadata": {},
   "outputs": [
    {
     "data": {
      "text/plain": [
       "array([-1. , -0.5,  0. ,  0.5])"
      ]
     },
     "execution_count": 55,
     "metadata": {},
     "output_type": "execute_result"
    }
   ],
   "source": [
    "np.arange(-1, 1, 0.5)"
   ]
  },
  {
   "cell_type": "code",
   "execution_count": 57,
   "metadata": {},
   "outputs": [
    {
     "data": {
      "text/plain": [
       "array([0. , 0.1, 0.2, 0.3, 0.4, 0.5, 0.6, 0.7, 0.8, 0.9])"
      ]
     },
     "execution_count": 57,
     "metadata": {},
     "output_type": "execute_result"
    }
   ],
   "source": [
    "np.arange(0, 1, 0.1)"
   ]
  },
  {
   "cell_type": "code",
   "execution_count": 58,
   "metadata": {},
   "outputs": [
    {
     "data": {
      "text/plain": [
       "array([10,  9,  8,  7,  6,  5,  4,  3,  2,  1,  0, -1, -2, -3, -4, -5, -6,\n",
       "       -7, -8, -9])"
      ]
     },
     "execution_count": 58,
     "metadata": {},
     "output_type": "execute_result"
    }
   ],
   "source": [
    "np.arange(10, -10, -1)"
   ]
  },
  {
   "cell_type": "markdown",
   "metadata": {
    "slideshow": {
     "slide_type": "subslide"
    }
   },
   "source": [
    "### linspace(start, stop, num=50, endpoint=True, retstep=False, dtype=None)\n",
    "\n",
    "시작과 끝을 균등하게 나눈 값들을 가지는 배열을 생성 [API](https://docs.scipy.org/doc/numpy-1.15.0/reference/generated/numpy.linspace.html#numpy.linspace)\n",
    "\n",
    "- start : 시작값\n",
    "- stop : 종료값\n",
    "- num : 나눌 개수. 기본-50, 양수 여야한다.\n",
    "- endpoint : stop을 포함시킬 것인지 여부. 기본 True\n",
    "- retstep : 생성된 배열 샘플과 함께 간격(step)도 리턴할지 여부. True일경우 간격도 리턴(sample, step) => 튜플로 받는다.\n",
    "- dtype : 데이터 타입"
   ]
  },
  {
   "cell_type": "code",
   "execution_count": 59,
   "metadata": {
    "slideshow": {
     "slide_type": "skip"
    }
   },
   "outputs": [
    {
     "data": {
      "text/plain": [
       "array([  1.  ,  25.75,  50.5 ,  75.25, 100.  ])"
      ]
     },
     "execution_count": 59,
     "metadata": {},
     "output_type": "execute_result"
    }
   ],
   "source": [
    "np.linspace(1, 100, 5)"
   ]
  },
  {
   "cell_type": "code",
   "execution_count": 60,
   "metadata": {
    "scrolled": true,
    "slideshow": {
     "slide_type": "skip"
    }
   },
   "outputs": [
    {
     "data": {
      "text/plain": [
       "array([ 1. , 20.8, 40.6, 60.4, 80.2])"
      ]
     },
     "execution_count": 60,
     "metadata": {},
     "output_type": "execute_result"
    }
   ],
   "source": [
    "np.linspace(1, 100, 5, endpoint=False)"
   ]
  },
  {
   "cell_type": "code",
   "execution_count": 61,
   "metadata": {},
   "outputs": [
    {
     "data": {
      "text/plain": [
       "(array([ 1. , 20.8, 40.6, 60.4, 80.2]), 19.8)"
      ]
     },
     "execution_count": 61,
     "metadata": {},
     "output_type": "execute_result"
    }
   ],
   "source": [
    "np.linspace(1,100,5,endpoint=False, retstep=True)"
   ]
  },
  {
   "cell_type": "markdown",
   "metadata": {
    "slideshow": {
     "slide_type": "subslide"
    }
   },
   "source": [
    "### eye(N, M=None, k=0, dtype=<class 'float'>, order='C')\n",
    "\n",
    "단위 행렬 생성 [API](https://docs.scipy.org/doc/numpy-1.15.1/reference/generated/numpy.eye.html) \n",
    "- N : 행수\n",
    "- M : 컬럼수\n",
    "- k : 대각선이 시작할 index (첫행의 index를 지정한다. ) 기본값 : 0\n",
    "- order : C - 행기반(C스타일), F - 컬럼기반(포트란스타일)\n",
    "> **단위행렬**   \n",
    "> 단위행렬은 좌상단에서 우하단으로 이어지는 대각선이 1이고 나머지는 0으로 채워진 정방 행렬    \n",
    "> [위키 설명](https://ko.wikipedia.org/wiki/%EB%8B%A8%EC%9C%84%ED%96%89%EB%A0%AC)"
   ]
  },
  {
   "cell_type": "code",
   "execution_count": 62,
   "metadata": {
    "slideshow": {
     "slide_type": "skip"
    }
   },
   "outputs": [
    {
     "data": {
      "text/plain": [
       "array([[1., 0., 0.],\n",
       "       [0., 1., 0.],\n",
       "       [0., 0., 1.]])"
      ]
     },
     "execution_count": 62,
     "metadata": {},
     "output_type": "execute_result"
    }
   ],
   "source": [
    "np.eye(3)"
   ]
  },
  {
   "cell_type": "code",
   "execution_count": 63,
   "metadata": {
    "slideshow": {
     "slide_type": "skip"
    }
   },
   "outputs": [
    {
     "data": {
      "text/plain": [
       "array([[1., 0., 0., 0., 0., 0., 0., 0., 0., 0.],\n",
       "       [0., 1., 0., 0., 0., 0., 0., 0., 0., 0.],\n",
       "       [0., 0., 1., 0., 0., 0., 0., 0., 0., 0.],\n",
       "       [0., 0., 0., 1., 0., 0., 0., 0., 0., 0.],\n",
       "       [0., 0., 0., 0., 1., 0., 0., 0., 0., 0.],\n",
       "       [0., 0., 0., 0., 0., 1., 0., 0., 0., 0.],\n",
       "       [0., 0., 0., 0., 0., 0., 1., 0., 0., 0.],\n",
       "       [0., 0., 0., 0., 0., 0., 0., 1., 0., 0.],\n",
       "       [0., 0., 0., 0., 0., 0., 0., 0., 1., 0.],\n",
       "       [0., 0., 0., 0., 0., 0., 0., 0., 0., 1.]])"
      ]
     },
     "execution_count": 63,
     "metadata": {},
     "output_type": "execute_result"
    }
   ],
   "source": [
    "np.eye(10)"
   ]
  },
  {
   "cell_type": "markdown",
   "metadata": {
    "slideshow": {
     "slide_type": "slide"
    }
   },
   "source": [
    "## 난수를 원소로 하는 ndarray 생성\n",
    "\n",
    "- numpy의 서브패키지인 random 패키지에서 제공하는 함수들\n",
    "- np.random.seed(정수) : 시드값 설정"
   ]
  },
  {
   "cell_type": "markdown",
   "metadata": {
    "slideshow": {
     "slide_type": "subslide"
    }
   },
   "source": [
    "### np.random.seed(시드값)\n",
    "- 난수 발생 알고리즘이 사용할 시작값(시드값)을 설정\n",
    "- 시드값을 설정하면 항상 일정한 난수가 발생한다."
   ]
  },
  {
   "cell_type": "markdown",
   "metadata": {
    "slideshow": {
     "slide_type": "fragment"
    }
   },
   "source": [
    "### np.random.rand(axis0[, axis1, axis2, ...])    \n",
    "- 0~1사이의 실수를 리턴\n",
    "- 축의 크기는 순서대로 나열한다."
   ]
  },
  {
   "cell_type": "code",
   "execution_count": 1,
   "metadata": {
    "slideshow": {
     "slide_type": "skip"
    }
   },
   "outputs": [],
   "source": [
    "import numpy as np"
   ]
  },
  {
   "cell_type": "code",
   "execution_count": 20,
   "metadata": {},
   "outputs": [],
   "source": [
    "np.random.seed(12)"
   ]
  },
  {
   "cell_type": "code",
   "execution_count": 16,
   "metadata": {},
   "outputs": [
    {
     "data": {
      "text/plain": [
       "0.15416284237967237"
      ]
     },
     "execution_count": 16,
     "metadata": {},
     "output_type": "execute_result"
    }
   ],
   "source": [
    "np.random.rand()"
   ]
  },
  {
   "cell_type": "code",
   "execution_count": 17,
   "metadata": {},
   "outputs": [
    {
     "data": {
      "text/plain": [
       "0.7400496965154048"
      ]
     },
     "execution_count": 17,
     "metadata": {},
     "output_type": "execute_result"
    }
   ],
   "source": [
    "np.random.rand()"
   ]
  },
  {
   "cell_type": "code",
   "execution_count": 18,
   "metadata": {},
   "outputs": [
    {
     "data": {
      "text/plain": [
       "0.26331501518513467"
      ]
     },
     "execution_count": 18,
     "metadata": {},
     "output_type": "execute_result"
    }
   ],
   "source": [
    "np.random.rand()"
   ]
  },
  {
   "cell_type": "code",
   "execution_count": 21,
   "metadata": {},
   "outputs": [
    {
     "data": {
      "text/plain": [
       "array([0.15416284, 0.7400497 , 0.26331502, 0.53373939, 0.01457496])"
      ]
     },
     "execution_count": 21,
     "metadata": {},
     "output_type": "execute_result"
    }
   ],
   "source": [
    "np.random.rand(5)"
   ]
  },
  {
   "cell_type": "code",
   "execution_count": 22,
   "metadata": {
    "slideshow": {
     "slide_type": "skip"
    }
   },
   "outputs": [
    {
     "data": {
      "text/plain": [
       "array([[0.91874701, 0.90071485, 0.03342143, 0.95694934],\n",
       "       [0.13720932, 0.28382835, 0.60608318, 0.94422514],\n",
       "       [0.85273554, 0.00225923, 0.52122603, 0.55203763],\n",
       "       [0.48537741, 0.76813415, 0.16071675, 0.76456045],\n",
       "       [0.0208098 , 0.13521018, 0.11627302, 0.30989758]])"
      ]
     },
     "execution_count": 22,
     "metadata": {},
     "output_type": "execute_result"
    }
   ],
   "source": [
    "np.random.rand(5,4)"
   ]
  },
  {
   "cell_type": "code",
   "execution_count": 23,
   "metadata": {},
   "outputs": [
    {
     "data": {
      "text/plain": [
       "array([[[[[0.67145265],\n",
       "          [0.47122978]],\n",
       "\n",
       "         [[0.8161683 ],\n",
       "          [0.28958678]],\n",
       "\n",
       "         [[0.73312598],\n",
       "          [0.70262236]]],\n",
       "\n",
       "\n",
       "        [[[0.32756948],\n",
       "          [0.33464753]],\n",
       "\n",
       "         [[0.97805808],\n",
       "          [0.62458211]],\n",
       "\n",
       "         [[0.95031352],\n",
       "          [0.76747565]]],\n",
       "\n",
       "\n",
       "        [[[0.82500925],\n",
       "          [0.4066403 ]],\n",
       "\n",
       "         [[0.45130841],\n",
       "          [0.40063163]],\n",
       "\n",
       "         [[0.99513816],\n",
       "          [0.17756418]]],\n",
       "\n",
       "\n",
       "        [[[0.9625969 ],\n",
       "          [0.41925027]],\n",
       "\n",
       "         [[0.42405245],\n",
       "          [0.46314887]],\n",
       "\n",
       "         [[0.37372315],\n",
       "          [0.4655081 ]]]],\n",
       "\n",
       "\n",
       "\n",
       "       [[[[0.03516826],\n",
       "          [0.08427267]],\n",
       "\n",
       "         [[0.7325207 ],\n",
       "          [0.63619999]],\n",
       "\n",
       "         [[0.02790779],\n",
       "          [0.30017006]]],\n",
       "\n",
       "\n",
       "        [[[0.22085252],\n",
       "          [0.05501999]],\n",
       "\n",
       "         [[0.52324607],\n",
       "          [0.41636966]],\n",
       "\n",
       "         [[0.04821875],\n",
       "          [0.57240452]]],\n",
       "\n",
       "\n",
       "        [[[0.80351665],\n",
       "          [0.11360172]],\n",
       "\n",
       "         [[0.27711721],\n",
       "          [0.64167809]],\n",
       "\n",
       "         [[0.49273731],\n",
       "          [0.50655608]]],\n",
       "\n",
       "\n",
       "        [[[0.46144026],\n",
       "          [0.89474307]],\n",
       "\n",
       "         [[0.60577769],\n",
       "          [0.6033556 ]],\n",
       "\n",
       "         [[0.44387186],\n",
       "          [0.48004678]]]],\n",
       "\n",
       "\n",
       "\n",
       "       [[[[0.88844753],\n",
       "          [0.20850049]],\n",
       "\n",
       "         [[0.94458146],\n",
       "          [0.07347004]],\n",
       "\n",
       "         [[0.59515246],\n",
       "          [0.03115107]]],\n",
       "\n",
       "\n",
       "        [[[0.66525743],\n",
       "          [0.6373855 ]],\n",
       "\n",
       "         [[0.86246516],\n",
       "          [0.94163771]],\n",
       "\n",
       "         [[0.44562705],\n",
       "          [0.66995763]]],\n",
       "\n",
       "\n",
       "        [[[0.9243307 ],\n",
       "          [0.61942347]],\n",
       "\n",
       "         [[0.32258573],\n",
       "          [0.31947631]],\n",
       "\n",
       "         [[0.29145669],\n",
       "          [0.95741742]]],\n",
       "\n",
       "\n",
       "        [[[0.40595834],\n",
       "          [0.94655582]],\n",
       "\n",
       "         [[0.85719056],\n",
       "          [0.68892767]],\n",
       "\n",
       "         [[0.00328797],\n",
       "          [0.9001035 ]]]],\n",
       "\n",
       "\n",
       "\n",
       "       [[[[0.91986487],\n",
       "          [0.00590936]],\n",
       "\n",
       "         [[0.64292615],\n",
       "          [0.38521698]],\n",
       "\n",
       "         [[0.59574189],\n",
       "          [0.61080706]]],\n",
       "\n",
       "\n",
       "        [[[0.59961919],\n",
       "          [0.312284  ]],\n",
       "\n",
       "         [[0.06987367],\n",
       "          [0.80073423]],\n",
       "\n",
       "         [[0.91143405],\n",
       "          [0.19467463]]],\n",
       "\n",
       "\n",
       "        [[[0.21060764],\n",
       "          [0.37744078]],\n",
       "\n",
       "         [[0.40284721],\n",
       "          [0.88517769]],\n",
       "\n",
       "         [[0.20215434],\n",
       "          [0.41901483]]],\n",
       "\n",
       "\n",
       "        [[[0.64795917],\n",
       "          [0.51164295]],\n",
       "\n",
       "         [[0.33383249],\n",
       "          [0.77847343]],\n",
       "\n",
       "         [[0.13543513],\n",
       "          [0.19171077]]]],\n",
       "\n",
       "\n",
       "\n",
       "       [[[[0.40258915],\n",
       "          [0.78684447]],\n",
       "\n",
       "         [[0.25380819],\n",
       "          [0.10948542]],\n",
       "\n",
       "         [[0.93067601],\n",
       "          [0.12638728]]],\n",
       "\n",
       "\n",
       "        [[[0.60500539],\n",
       "          [0.29012194]],\n",
       "\n",
       "         [[0.62652939],\n",
       "          [0.65947595]],\n",
       "\n",
       "         [[0.06772616],\n",
       "          [0.35544292]]],\n",
       "\n",
       "\n",
       "        [[[0.33472408],\n",
       "          [0.17750637]],\n",
       "\n",
       "         [[0.00800334],\n",
       "          [0.0104384 ]],\n",
       "\n",
       "         [[0.5974588 ],\n",
       "          [0.08463852]]],\n",
       "\n",
       "\n",
       "        [[[0.31566824],\n",
       "          [0.96861833]],\n",
       "\n",
       "         [[0.87358255],\n",
       "          [0.91278399]],\n",
       "\n",
       "         [[0.16989826],\n",
       "          [0.3168079 ]]]]])"
      ]
     },
     "execution_count": 23,
     "metadata": {},
     "output_type": "execute_result"
    }
   ],
   "source": [
    "np.random.rand(5,4,3,2,1)"
   ]
  },
  {
   "cell_type": "markdown",
   "metadata": {},
   "source": [
    "### np.random.normal(loc=0, scale=1, size=None)\n",
    "정규 분포를 따르는 난수를 반환\n",
    "- loc: 평균\n",
    "- scale: 표준편차\n",
    "- size: shape지정"
   ]
  },
  {
   "cell_type": "code",
   "execution_count": 26,
   "metadata": {},
   "outputs": [
    {
     "data": {
      "text/plain": [
       "array([-1.13267352, -0.21983834, -0.81074396, -1.2592642 ,  0.06639095,\n",
       "       -0.32688574,  0.228046  ,  0.18313239,  0.84473869, -0.03365701,\n",
       "        0.23027691,  1.27142206,  0.59755802,  0.76842735, -1.32862093,\n",
       "        0.08463606,  1.2982271 ,  1.02259447, -2.49075849,  1.08484657])"
      ]
     },
     "execution_count": 26,
     "metadata": {},
     "output_type": "execute_result"
    }
   ],
   "source": [
    "a = np.random.normal(size=(20,))\n",
    "a"
   ]
  },
  {
   "cell_type": "code",
   "execution_count": 27,
   "metadata": {},
   "outputs": [
    {
     "data": {
      "text/plain": [
       "0.0038927195624275713"
      ]
     },
     "execution_count": 27,
     "metadata": {},
     "output_type": "execute_result"
    }
   ],
   "source": [
    "np.mean(a) #평균"
   ]
  },
  {
   "cell_type": "code",
   "execution_count": 28,
   "metadata": {},
   "outputs": [
    {
     "data": {
      "text/plain": [
       "0.974343508120588"
      ]
     },
     "execution_count": 28,
     "metadata": {},
     "output_type": "execute_result"
    }
   ],
   "source": [
    "np.std(a) # 표준편차"
   ]
  },
  {
   "cell_type": "code",
   "execution_count": 29,
   "metadata": {},
   "outputs": [
    {
     "data": {
      "text/plain": [
       "array([[ 6.92100638,  2.5520443 ,  5.71209029,  8.37996305, 14.96103579,\n",
       "         2.0609239 ,  2.49618094,  5.97940895,  1.26512266,  6.43137387],\n",
       "       [ 2.66033388,  6.27525201,  7.45385304,  3.03151742,  0.50985308,\n",
       "        -1.44693189,  5.53861169, 10.70715036,  6.39836612,  2.04676776],\n",
       "       [ 2.92176477,  6.97017365,  7.05916459,  5.35912701,  3.86876192,\n",
       "         5.40939592,  1.80570339,  7.56029286,  3.36191796,  2.40173008],\n",
       "       [ 3.88410315,  2.46902681,  4.7416598 ,  2.71933909,  9.02074439,\n",
       "         2.80984853,  4.07380816,  5.25013692,  0.92148357,  4.87454385],\n",
       "       [ 1.97662827,  4.52442012,  7.02884558,  6.45406908,  3.47874226,\n",
       "         8.3412626 ,  9.73450738,  3.98497543,  2.42844651, -1.90661827]])"
      ]
     },
     "execution_count": 29,
     "metadata": {},
     "output_type": "execute_result"
    }
   ],
   "source": [
    "b = np.random.normal(loc=5, scale=3, size=(5,10))\n",
    "b"
   ]
  },
  {
   "cell_type": "code",
   "execution_count": 30,
   "metadata": {},
   "outputs": [
    {
     "data": {
      "text/plain": [
       "(4.669238579137151, 3.05937584290846)"
      ]
     },
     "execution_count": 30,
     "metadata": {},
     "output_type": "execute_result"
    }
   ],
   "source": [
    "np.mean(b), np.std(b)"
   ]
  },
  {
   "cell_type": "code",
   "execution_count": null,
   "metadata": {},
   "outputs": [],
   "source": []
  },
  {
   "cell_type": "markdown",
   "metadata": {
    "slideshow": {
     "slide_type": "subslide"
    }
   },
   "source": [
    "### np.random.randint(low, high=None, size=None, dtype='l')\n",
    "임의의 정수를 가지는 1차원 배열[API](https://docs.scipy.org/doc/numpy-1.15.0/reference/generated/numpy.random.randint.html#numpy.random.randint)\n",
    "\n",
    "- low ~ high 사이의 정수 리턴. high는 포함안됨\n",
    "- high 생략시 0 ~ low 사이 정수 리턴. low는 포함안됨\n",
    "- size : 배열의 크기. 다차원은 튜플로 지정 기본 1개\n",
    "- dtype : 원소의 타입"
   ]
  },
  {
   "cell_type": "code",
   "execution_count": 32,
   "metadata": {
    "slideshow": {
     "slide_type": "skip"
    }
   },
   "outputs": [
    {
     "data": {
      "text/plain": [
       "array([19, 10, 16, 17, 14, 10, 19, 11, 19, 16])"
      ]
     },
     "execution_count": 32,
     "metadata": {},
     "output_type": "execute_result"
    }
   ],
   "source": [
    "np.random.randint(10, 20, size=(10,))"
   ]
  },
  {
   "cell_type": "code",
   "execution_count": 33,
   "metadata": {
    "slideshow": {
     "slide_type": "skip"
    }
   },
   "outputs": [
    {
     "data": {
      "text/plain": [
       "array([[4, 9, 2, 9, 0, 2, 8, 2, 0, 5],\n",
       "       [9, 9, 0, 3, 0, 8, 1, 0, 6, 0]])"
      ]
     },
     "execution_count": 33,
     "metadata": {},
     "output_type": "execute_result"
    }
   ],
   "source": [
    "np.random.randint(10, size=(2,10))"
   ]
  },
  {
   "cell_type": "markdown",
   "metadata": {
    "slideshow": {
     "slide_type": "subslide"
    }
   },
   "source": [
    "### np.random.choice(a, size=None, replace=True, p=None)\n",
    "- 샘플링 메소드\n",
    "- a : 샘플링대상. 1차원 배열 또는 정수 (정수일 경우 0 ~ 정수, 정수 불포함)\n",
    "- size : 샘플 개수\n",
    "- replace : True-복원추출(기본), False-비복원추출\n",
    "- p: 샘플링할 대상 값들이 추출될 확률 지정한 배열"
   ]
  },
  {
   "cell_type": "code",
   "execution_count": 34,
   "metadata": {},
   "outputs": [
    {
     "data": {
      "text/plain": [
       "array([1, 0, 0, 0, 0, 0, 1, 1, 1, 1])"
      ]
     },
     "execution_count": 34,
     "metadata": {},
     "output_type": "execute_result"
    }
   ],
   "source": [
    "a = np.array([0,1])\n",
    "np.random.choice(a, size=10)"
   ]
  },
  {
   "cell_type": "code",
   "execution_count": 36,
   "metadata": {},
   "outputs": [
    {
     "data": {
      "text/plain": [
       "array([1, 1, 1, 1, 1, 1, 1, 1, 1, 1, 1, 1, 1, 1, 1, 1, 1, 1, 1, 1, 1, 0,\n",
       "       1, 1, 1, 1, 1, 1, 1, 1, 0, 1, 1, 1, 1, 1, 1, 1, 1, 1, 0, 1, 1, 1,\n",
       "       0, 1, 1, 1, 1, 1, 1, 1, 1, 1, 1, 1, 1, 1, 1, 1, 1, 1, 1, 1, 1, 1,\n",
       "       1, 1, 0, 1, 1, 1, 1, 1, 1, 1, 1, 1, 1, 1, 1, 1, 1, 1, 1, 1, 1, 1,\n",
       "       1, 0, 1, 1, 1, 1, 1, 1, 1, 1, 1, 1])"
      ]
     },
     "execution_count": 36,
     "metadata": {},
     "output_type": "execute_result"
    }
   ],
   "source": [
    "np.random.choice(a, size=100, p=[0.1, 0.9]) #0: 0.1, 1:0.9 의 확률로 추출"
   ]
  },
  {
   "cell_type": "code",
   "execution_count": 39,
   "metadata": {},
   "outputs": [
    {
     "data": {
      "text/plain": [
       "array([4, 3, 9, 2, 7])"
      ]
     },
     "execution_count": 39,
     "metadata": {},
     "output_type": "execute_result"
    }
   ],
   "source": [
    "b = np.arange(10)\n",
    "np.random.choice(b, size=5, replace=False)"
   ]
  },
  {
   "cell_type": "code",
   "execution_count": null,
   "metadata": {},
   "outputs": [],
   "source": []
  },
  {
   "cell_type": "code",
   "execution_count": null,
   "metadata": {},
   "outputs": [],
   "source": []
  },
  {
   "cell_type": "code",
   "execution_count": null,
   "metadata": {},
   "outputs": [],
   "source": []
  },
  {
   "cell_type": "code",
   "execution_count": null,
   "metadata": {},
   "outputs": [],
   "source": []
  },
  {
   "cell_type": "code",
   "execution_count": null,
   "metadata": {},
   "outputs": [],
   "source": []
  }
 ],
 "metadata": {
  "kernelspec": {
   "display_name": "Python 3",
   "language": "python",
   "name": "python3"
  },
  "language_info": {
   "codemirror_mode": {
    "name": "ipython",
    "version": 3
   },
   "file_extension": ".py",
   "mimetype": "text/x-python",
   "name": "python",
   "nbconvert_exporter": "python",
   "pygments_lexer": "ipython3",
   "version": "3.7.3"
  },
  "toc": {
   "base_numbering": 1,
   "nav_menu": {},
   "number_sections": false,
   "sideBar": false,
   "skip_h1_title": false,
   "title_cell": "Table of Contents",
   "title_sidebar": "Contents",
   "toc_cell": false,
   "toc_position": {},
   "toc_section_display": true,
   "toc_window_display": false
  },
  "varInspector": {
   "cols": {
    "lenName": 16,
    "lenType": 16,
    "lenVar": 40
   },
   "kernels_config": {
    "python": {
     "delete_cmd_postfix": "",
     "delete_cmd_prefix": "del ",
     "library": "var_list.py",
     "varRefreshCmd": "print(var_dic_list())"
    },
    "r": {
     "delete_cmd_postfix": ") ",
     "delete_cmd_prefix": "rm(",
     "library": "var_list.r",
     "varRefreshCmd": "cat(var_dic_list()) "
    }
   },
   "types_to_exclude": [
    "module",
    "function",
    "builtin_function_or_method",
    "instance",
    "_Feature"
   ],
   "window_display": false
  }
 },
 "nbformat": 4,
 "nbformat_minor": 2
}
